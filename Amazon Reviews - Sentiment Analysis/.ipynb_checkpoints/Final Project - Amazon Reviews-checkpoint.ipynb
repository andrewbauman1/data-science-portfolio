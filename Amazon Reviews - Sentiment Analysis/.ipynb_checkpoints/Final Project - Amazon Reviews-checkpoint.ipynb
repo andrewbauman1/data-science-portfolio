{
 "cells": [
  {
   "cell_type": "markdown",
   "metadata": {
    "colab_type": "text",
    "id": "4iKvJmi279Q1"
   },
   "source": [
    "#Amazon Reviews Dataset\n",
    "An Analysis by Andrew Bauman and Allison Nowakowski\n",
    "\n",
    "Fall 2019"
   ]
  },
  {
   "cell_type": "code",
   "execution_count": null,
   "metadata": {
    "colab": {
     "base_uri": "https://localhost:8080/",
     "height": 85
    },
    "colab_type": "code",
    "executionInfo": {
     "elapsed": 13736,
     "status": "ok",
     "timestamp": 1575326634708,
     "user": {
      "displayName": "Andrew Bauman",
      "photoUrl": "https://lh3.googleusercontent.com/a-/AAuE7mCb4QDCMrPcpJu_GxAZc5vWamJCWGRFRIQkx3nW=s64",
      "userId": "14792166631926626817"
     },
     "user_tz": 300
    },
    "id": "8udBcass8vnm",
    "outputId": "7a98c3ab-44e3-498b-d218-e594c606cf9b"
   },
   "outputs": [],
   "source": [
    "#Importing the Amazon Reviews Dataset for Pet Products in the US Marketplace\n",
    "from urllib.request import urlretrieve\n",
    "import os\n",
    "\n",
    "def download(url, file):\n",
    "    if not os.path.isfile(file):\n",
    "        print(\"Download file... \" + file + \" ...\")\n",
    "        urlretrieve(url,file)\n",
    "        print(\"File downloaded\")\n",
    "\n",
    "download('https://s3.amazonaws.com/amazon-reviews-pds/tsv/amazon_reviews_us_Pet_Products_v1_00.tsv.gz','amazon_reviews_us_Pet_Products_v1_00.tsv.gz')\n",
    "print(\"All the files are downloaded\")\n",
    "\n",
    "#Verifying that the file was downloaded\n",
    "!ls "
   ]
  },
  {
   "cell_type": "code",
   "execution_count": null,
   "metadata": {
    "colab": {
     "base_uri": "https://localhost:8080/",
     "height": 955
    },
    "colab_type": "code",
    "executionInfo": {
     "elapsed": 24930,
     "status": "ok",
     "timestamp": 1575220454080,
     "user": {
      "displayName": "Allison Nowakowski",
      "photoUrl": "",
      "userId": "11962716709001588350"
     },
     "user_tz": 300
    },
    "id": "bzm05bwp_D9t",
    "outputId": "03d894b0-9430-438b-a327-3d6eecd5452d"
   },
   "outputs": [],
   "source": [
    "#Creating a pandas dataframe with the data, skipping bad lines for now.\n",
    "import pandas as pd\n",
    "\n",
    "df = pd.read_csv('amazon_reviews_us_Pet_Products_v1_00.tsv.gz', compression='gzip', sep='\\t', header=0, error_bad_lines=False)\n",
    "df.head()"
   ]
  },
  {
   "cell_type": "code",
   "execution_count": null,
   "metadata": {
    "colab": {
     "base_uri": "https://localhost:8080/",
     "height": 357
    },
    "colab_type": "code",
    "executionInfo": {
     "elapsed": 1193,
     "status": "ok",
     "timestamp": 1575220471396,
     "user": {
      "displayName": "Allison Nowakowski",
      "photoUrl": "",
      "userId": "11962716709001588350"
     },
     "user_tz": 300
    },
    "id": "lOf4GD6UAR6U",
    "outputId": "58b09c16-e0e7-46fa-aaea-fd6e7c6ea693"
   },
   "outputs": [],
   "source": [
    "#Previewing the data\n",
    "df.info()"
   ]
  },
  {
   "cell_type": "code",
   "execution_count": null,
   "metadata": {
    "colab": {
     "base_uri": "https://localhost:8080/",
     "height": 221
    },
    "colab_type": "code",
    "executionInfo": {
     "elapsed": 1217,
     "status": "ok",
     "timestamp": 1575220479238,
     "user": {
      "displayName": "Allison Nowakowski",
      "photoUrl": "",
      "userId": "11962716709001588350"
     },
     "user_tz": 300
    },
    "id": "idwSa3xXA3rI",
    "outputId": "64e5d1e3-af60-42be-e4ee-be6b02644c6b"
   },
   "outputs": [],
   "source": [
    "#Cleaning/Simplifying the dataset\n",
    "#Removing unnecessary columns and only keeping reviews from verified purchases.\n",
    "df=df[['review_id', 'star_rating', 'verified_purchase', 'helpful_votes', 'total_votes', 'review_headline', 'review_body']]\n",
    "df.info()"
   ]
  },
  {
   "cell_type": "code",
   "execution_count": null,
   "metadata": {
    "colab": {
     "base_uri": "https://localhost:8080/",
     "height": 235
    },
    "colab_type": "code",
    "executionInfo": {
     "elapsed": 1781,
     "status": "ok",
     "timestamp": 1575220486076,
     "user": {
      "displayName": "Allison Nowakowski",
      "photoUrl": "",
      "userId": "11962716709001588350"
     },
     "user_tz": 300
    },
    "id": "OmZOPJaNCScT",
    "outputId": "7d152c33-b6cd-4f99-c14b-1224a850af2e"
   },
   "outputs": [],
   "source": [
    "#Viewing the data\n",
    "import seaborn as sns\n",
    "df.groupby('star_rating').count()"
   ]
  },
  {
   "cell_type": "code",
   "execution_count": null,
   "metadata": {
    "colab": {
     "base_uri": "https://localhost:8080/",
     "height": 119
    },
    "colab_type": "code",
    "executionInfo": {
     "elapsed": 3332,
     "status": "ok",
     "timestamp": 1575222385252,
     "user": {
      "displayName": "Allison Nowakowski",
      "photoUrl": "",
      "userId": "11962716709001588350"
     },
     "user_tz": 300
    },
    "id": "5HJ41NGC_x0m",
    "outputId": "7a03aa4e-4a9e-43bb-d675-7c8da46cdea4"
   },
   "outputs": [],
   "source": [
    "#Dropping rows without reviews\n",
    "df_filtered = df.dropna()\n",
    "df_filtered = df_filtered.reset_index(drop=True)\n",
    "df_filtered.groupby('star_rating').count()\n",
    "\n",
    "df_filtered.star_rating.value_counts()"
   ]
  },
  {
   "cell_type": "code",
   "execution_count": null,
   "metadata": {
    "colab": {
     "base_uri": "https://localhost:8080/",
     "height": 297
    },
    "colab_type": "code",
    "executionInfo": {
     "elapsed": 2127,
     "status": "ok",
     "timestamp": 1575220499135,
     "user": {
      "displayName": "Allison Nowakowski",
      "photoUrl": "",
      "userId": "11962716709001588350"
     },
     "user_tz": 300
    },
    "id": "XvGgD1w7CVgu",
    "outputId": "13a3e5a8-9636-4700-9caf-548cc8cea97b"
   },
   "outputs": [],
   "source": [
    "#Viewing the data\n",
    "sns.countplot(df_filtered.star_rating)"
   ]
  },
  {
   "cell_type": "code",
   "execution_count": null,
   "metadata": {
    "colab": {
     "base_uri": "https://localhost:8080/",
     "height": 34
    },
    "colab_type": "code",
    "executionInfo": {
     "elapsed": 743,
     "status": "ok",
     "timestamp": 1575220626284,
     "user": {
      "displayName": "Allison Nowakowski",
      "photoUrl": "",
      "userId": "11962716709001588350"
     },
     "user_tz": 300
    },
    "id": "0Oc6TnsrLW_L",
    "outputId": "1426aa29-e2ae-4c7f-ff56-27c8a0f5f473"
   },
   "outputs": [],
   "source": [
    "df_minority = df_filtered[df_filtered.star_rating==2.0]\n",
    "df_minority_count = df_minority.size\n",
    "df_minority_count"
   ]
  },
  {
   "cell_type": "code",
   "execution_count": null,
   "metadata": {
    "colab": {
     "base_uri": "https://localhost:8080/",
     "height": 119
    },
    "colab_type": "code",
    "executionInfo": {
     "elapsed": 1777,
     "status": "ok",
     "timestamp": 1575220630461,
     "user": {
      "displayName": "Allison Nowakowski",
      "photoUrl": "",
      "userId": "11962716709001588350"
     },
     "user_tz": 300
    },
    "id": "_gYuluauHXmj",
    "outputId": "ec796ad8-40e3-47bb-e4d5-f69fa3a63373"
   },
   "outputs": [],
   "source": [
    "from sklearn.utils import resample\n",
    "#Balancing the data\n",
    "df_majority = df_filtered[df_filtered.star_rating==5.0]\n",
    "df_minority = df_filtered[df_filtered.star_rating==2.0]\n",
    "df_oneStar = df_filtered[df_filtered.star_rating==1.0]\n",
    "df_threeStars = df_filtered[df_filtered.star_rating==3.0]\n",
    "df_fourStars = df_filtered[df_filtered.star_rating==4.0]\n",
    "df_minority_count = df_minority.count\n",
    "\n",
    "# Downsample majority class\n",
    "df_majority_downsampled = resample(df_majority, \n",
    "                                  replace=False,    # sample without replacement\n",
    "                                  n_samples=151065, # to match minority class\n",
    "                                  random_state=123) # reproducible results\n",
    "\n",
    "# Combine minority class with downsampled majority class\n",
    "df_downsampled = pd.concat([df_majority_downsampled, df_minority, df_oneStar, df_threeStars, df_fourStars])\n",
    "\n",
    "# Display new class counts\n",
    "df_downsampled.star_rating.value_counts()"
   ]
  },
  {
   "cell_type": "code",
   "execution_count": null,
   "metadata": {
    "colab": {
     "base_uri": "https://localhost:8080/",
     "height": 297
    },
    "colab_type": "code",
    "executionInfo": {
     "elapsed": 1318,
     "status": "ok",
     "timestamp": 1575220643314,
     "user": {
      "displayName": "Allison Nowakowski",
      "photoUrl": "",
      "userId": "11962716709001588350"
     },
     "user_tz": 300
    },
    "id": "ourA0kgvMV50",
    "outputId": "e4722b4b-bcc2-4352-d817-f420d1901c8c"
   },
   "outputs": [],
   "source": [
    "#Viewing the downsampled data\n",
    "sns.countplot(df_downsampled.star_rating)"
   ]
  },
  {
   "cell_type": "code",
   "execution_count": null,
   "metadata": {
    "colab": {},
    "colab_type": "code",
    "id": "7oM74r3qMh4V"
   },
   "outputs": [],
   "source": [
    "import numpy as np\n",
    "from sklearn.model_selection import train_test_split\n",
    "\n",
    "testData, trainData = train_test_split(df_downsampled, test_size=0.33, random_state=42)\n"
   ]
  },
  {
   "cell_type": "code",
   "execution_count": null,
   "metadata": {
    "colab": {
     "base_uri": "https://localhost:8080/",
     "height": 34
    },
    "colab_type": "code",
    "executionInfo": {
     "elapsed": 1182,
     "status": "ok",
     "timestamp": 1575220686857,
     "user": {
      "displayName": "Allison Nowakowski",
      "photoUrl": "",
      "userId": "11962716709001588350"
     },
     "user_tz": 300
    },
    "id": "464dtrywV356",
    "outputId": "da84f30d-f25a-4b4f-f4e5-239c27a5699e"
   },
   "outputs": [],
   "source": [
    "trainData.size"
   ]
  },
  {
   "cell_type": "code",
   "execution_count": null,
   "metadata": {
    "colab": {
     "base_uri": "https://localhost:8080/",
     "height": 34
    },
    "colab_type": "code",
    "executionInfo": {
     "elapsed": 800,
     "status": "ok",
     "timestamp": 1575220688438,
     "user": {
      "displayName": "Allison Nowakowski",
      "photoUrl": "",
      "userId": "11962716709001588350"
     },
     "user_tz": 300
    },
    "id": "81Uq0koxWCWx",
    "outputId": "05059571-5260-4c73-a557-bcd5981afc48"
   },
   "outputs": [],
   "source": [
    "testData.size"
   ]
  },
  {
   "cell_type": "code",
   "execution_count": null,
   "metadata": {
    "colab": {
     "base_uri": "https://localhost:8080/",
     "height": 391
    },
    "colab_type": "code",
    "executionInfo": {
     "elapsed": 54480,
     "status": "ok",
     "timestamp": 1575220748028,
     "user": {
      "displayName": "Allison Nowakowski",
      "photoUrl": "",
      "userId": "11962716709001588350"
     },
     "user_tz": 300
    },
    "id": "KBo09t2SXfZ7",
    "outputId": "15d78d66-dc2a-4769-f74e-042c1a34d28a"
   },
   "outputs": [],
   "source": [
    "#Defining a pipeline\n",
    "from sklearn.feature_extraction.text import CountVectorizer\n",
    "from sklearn.feature_extraction.text import TfidfTransformer\n",
    "from sklearn.linear_model import LogisticRegression\n",
    "from sklearn.pipeline import Pipeline\n",
    "text_clf = Pipeline([\n",
    "    ('vect', CountVectorizer()), #adding stop_words='english' lowers accuracy\n",
    "    ('tfidf', TfidfTransformer()),\n",
    "    ('clf', LogisticRegression(random_state=42, solver='sag', multi_class='ovr')),\n",
    "])\n",
    "text_clf.fit(trainData.review_body, trainData.star_rating)"
   ]
  },
  {
   "cell_type": "code",
   "execution_count": null,
   "metadata": {
    "colab": {
     "base_uri": "https://localhost:8080/",
     "height": 34
    },
    "colab_type": "code",
    "executionInfo": {
     "elapsed": 30841,
     "status": "ok",
     "timestamp": 1575220852613,
     "user": {
      "displayName": "Allison Nowakowski",
      "photoUrl": "",
      "userId": "11962716709001588350"
     },
     "user_tz": 300
    },
    "id": "DB50_nm_XsHU",
    "outputId": "099d0afc-8c4e-4e65-e921-6e378d962499"
   },
   "outputs": [],
   "source": [
    "#Testing the classifer\n",
    "test_docs = testData.review_body\n",
    "predictions = text_clf.predict(test_docs)\n",
    "#Evaluating predictive accuracy of the classifier\n",
    "np.mean(predictions == testData.star_rating)"
   ]
  },
  {
   "cell_type": "code",
   "execution_count": null,
   "metadata": {
    "colab": {
     "base_uri": "https://localhost:8080/",
     "height": 221
    },
    "colab_type": "code",
    "executionInfo": {
     "elapsed": 2788,
     "status": "ok",
     "timestamp": 1575220882527,
     "user": {
      "displayName": "Allison Nowakowski",
      "photoUrl": "",
      "userId": "11962716709001588350"
     },
     "user_tz": 300
    },
    "id": "1zqEuc0dXxK7",
    "outputId": "8c2d11ec-0a2f-447e-c1e8-e07e6e8e28b2"
   },
   "outputs": [],
   "source": [
    "#Printing the model metrics\n",
    "from sklearn import metrics\n",
    "print(metrics.classification_report(testData.star_rating, predictions))"
   ]
  },
  {
   "cell_type": "markdown",
   "metadata": {
    "colab_type": "text",
    "id": "unmtzLrVk4yP"
   },
   "source": [
    "Comparing our model's results to state-of-the-art methods:\n",
    "\n",
    "https://paperswithcode.com/sota/sentiment-analysis-on-amazon-review-full"
   ]
  },
  {
   "cell_type": "markdown",
   "metadata": {
    "colab_type": "text",
    "id": "FiAZcsx2sg0L"
   },
   "source": [
    "# NOTE\n",
    "\n",
    "The code below is unable to be run on google colab (not enough RAM) and, therefore, we have been unable to run the model and test its accuracy. It is our attempt to create a version of the above model using keras and neural networks. "
   ]
  },
  {
   "cell_type": "code",
   "execution_count": null,
   "metadata": {
    "colab": {},
    "colab_type": "code",
    "id": "l1xqfEmbZMRW"
   },
   "outputs": [],
   "source": [
    "#Neural Network Model -- CANNOT RUN ON GOOGLE COLAB;\n",
    "import keras\n",
    "from keras.preprocessing.text import Tokenizer\n",
    "from keras.models import Sequential\n",
    "from keras.layers import Activation, Dense, Dropout\n",
    "from sklearn.preprocessing import LabelBinarizer"
   ]
  },
  {
   "cell_type": "code",
   "execution_count": null,
   "metadata": {
    "colab": {
     "base_uri": "https://localhost:8080/",
     "height": 232
    },
    "colab_type": "code",
    "executionInfo": {
     "elapsed": 353,
     "status": "error",
     "timestamp": 1574722089048,
     "user": {
      "displayName": "Allison Nowakowski",
      "photoUrl": "",
      "userId": "11962716709001588350"
     },
     "user_tz": 300
    },
    "id": "VD8DvNO6ZNR2",
    "outputId": "ed7219e0-fc89-4786-d698-66557f1f8bfa"
   },
   "outputs": [],
   "source": [
    "num_labels = 5\n",
    "vocab_size = 15000\n",
    "batch_size = 100\n",
    " \n",
    "# define Tokenizer with Vocab Size\n",
    "tokenizer = Tokenizer(num_words=vocab_size)\n",
    "tokenizer.fit_on_texts(trainData.review_body)\n",
    " \n",
    "x_train = tokenizer.texts_to_matrix(trainData.review_body, mode='tfidf')\n",
    "x_test = tokenizer.texts_to_matrix(testData.review_body, mode='tfidf')\n",
    "\n",
    "encoder = LabelBinarizer()\n",
    "encoder.fit(trainData.review_body)\n",
    "y_train = encoder.transform(trainData.review_body)\n",
    "y_test = encoder.transform(testData.review_body)"
   ]
  },
  {
   "cell_type": "code",
   "execution_count": null,
   "metadata": {
    "colab": {
     "base_uri": "https://localhost:8080/",
     "height": 232
    },
    "colab_type": "code",
    "executionInfo": {
     "elapsed": 474,
     "status": "error",
     "timestamp": 1574722083904,
     "user": {
      "displayName": "Allison Nowakowski",
      "photoUrl": "",
      "userId": "11962716709001588350"
     },
     "user_tz": 300
    },
    "id": "roHcPwS6Z-6K",
    "outputId": "e51b4d52-d916-464d-9ac4-27fe68ce3f62"
   },
   "outputs": [],
   "source": [
    "callbacks_list = [\n",
    "    keras.callbacks.EarlyStopping(\n",
    "        monitor='val_loss',\n",
    "        patience=1,\n",
    "        verbose=1,\n",
    "    ),\n",
    "]\n",
    "\n",
    "model = Sequential()\n",
    "model.add(Dense(512, input_shape=(vocab_size,)))\n",
    "model.add(Activation('relu'))\n",
    "model.add(Dropout(0.3))\n",
    "model.add(Dense(512))\n",
    "model.add(Activation('relu'))\n",
    "model.add(Dropout(0.3))\n",
    "model.add(Dense(num_labels))\n",
    "model.add(Activation('softmax'))\n",
    "model.summary()\n",
    " \n",
    "model.compile(loss='categorical_crossentropy',\n",
    "              optimizer='adam',\n",
    "              metrics=['accuracy'])\n",
    " \n",
    "history = model.fit(x_train, y_train,\n",
    "                    batch_size=batch_size,\n",
    "                    epochs=30,\n",
    "                    verbose=1,\n",
    "                    callbacks=callbacks_list,\n",
    "                    validation_data=(x_train, y_train))"
   ]
  },
  {
   "cell_type": "code",
   "execution_count": null,
   "metadata": {
    "colab": {},
    "colab_type": "code",
    "id": "k07RRrNpeGJj"
   },
   "outputs": [],
   "source": [
    "#Evaluating the model\n",
    "score = model.evaluate(x_test, y_test,\n",
    "                       batch_size=batch_size, verbose=1)\n",
    " \n",
    "print('Test accuracy:', score[1])\n",
    " \n",
    "text_labels = encoder.classes_\n",
    " \n",
    "for i in range(10):\n",
    "    prediction = model.predict(np.array([x_test[i]]))\n",
    "    predicted_label = text_labels[np.argmax(prediction[0])]\n",
    "    print(test_data.filename.iloc[i])\n",
    "    print('Actual label:' + test_data.category.iloc[i])\n",
    "    print(\"Predicted label: \" + predicted_label)"
   ]
  },
  {
   "cell_type": "code",
   "execution_count": null,
   "metadata": {
    "colab": {},
    "colab_type": "code",
    "id": "4jO6qy3weG1o"
   },
   "outputs": [],
   "source": [
    "#Evaluating the model\n",
    "score = model.evaluate(x_test, y_test,\n",
    "                       batch_size=batch_size, verbose=1)\n",
    " \n",
    "print('Test accuracy:', score[1])\n",
    " \n",
    "text_labels = encoder.classes_\n",
    " \n",
    "for i in range(10):\n",
    "    prediction = model.predict(np.array([x_test[i]]))\n",
    "    predicted_label = text_labels[np.argmax(prediction[0])]\n",
    "    print(test_data.filename.iloc[i])\n",
    "    print('Actual label:' + test_data.category.iloc[i])\n",
    "    print(\"Predicted label: \" + predicted_label)"
   ]
  },
  {
   "cell_type": "code",
   "execution_count": null,
   "metadata": {
    "colab": {
     "base_uri": "https://localhost:8080/",
     "height": 232
    },
    "colab_type": "code",
    "executionInfo": {
     "elapsed": 1495,
     "status": "error",
     "timestamp": 1575221293470,
     "user": {
      "displayName": "Allison Nowakowski",
      "photoUrl": "",
      "userId": "11962716709001588350"
     },
     "user_tz": 300
    },
    "id": "X7M5n-FseLz4",
    "outputId": "3c8d5dd1-498c-472b-80bb-781cd009399f"
   },
   "outputs": [],
   "source": [
    "#Confusion Matrix\n",
    "\n",
    "def plot_confusion_matrix(cm, classes,\n",
    "                          normalize=False,\n",
    "                          title='Confusion matrix',\n",
    "                          cmap=plt.cm.Blues):\n",
    "    \"\"\"\n",
    "    This function prints and plots the confusion matrix.\n",
    "    Normalization can be applied by setting `normalize=True`.\n",
    "    \"\"\"\n",
    "    if normalize:\n",
    "        cm = cm.astype('float') / cm.sum(axis=1)[:, np.newaxis]\n",
    "        print(\"Normalized confusion matrix\")\n",
    "    else:\n",
    "        print('Confusion matrix, without normalization')\n",
    "\n",
    "    # print(cm)\n",
    "\n",
    "    plt.imshow(cm, interpolation='nearest', cmap=cmap)\n",
    "    plt.title(title)\n",
    "    plt.colorbar()\n",
    "    tick_marks = np.arange(len(classes))\n",
    "    plt.xticks(tick_marks, classes, rotation=90)\n",
    "    plt.yticks(tick_marks, classes)\n",
    "\n",
    "    fmt = '.2f' if normalize else 'd'\n",
    "    thresh = cm.max() / 2.\n",
    "    for i, j in itertools.product(range(cm.shape[0]), range(cm.shape[1])):\n",
    "        plt.text(j, i, format(cm[i, j], fmt),\n",
    "                 horizontalalignment=\"center\",\n",
    "                 color=\"white\" if cm[i, j] > thresh else \"black\")\n",
    "\n",
    "    plt.tight_layout()\n",
    "    plt.ylabel('True label')\n",
    "    plt.xlabel('Predicted label')\n",
    "\n",
    "\n",
    "y_pred = model.predict(x_test);\n",
    "cnf_matrix = metrics.confusion_matrix(np.argmax(y_test, axis=1), np.argmax(y_pred, axis=1))\n",
    "\n",
    "# Plot normalized confusion matrix\n",
    "fig = plt.figure()\n",
    "fig.set_size_inches(14, 12, forward=True)\n",
    "#fig.align_labels()\n",
    "\n",
    "# fig.subplots_adjust(left=0.0, right=1.0, bottom=0.0, top=1.0)\n",
    "plot_confusion_matrix(cnf_matrix, classes=np.asarray(label_names), normalize=True,\n",
    "                      title='Normalized confusion matrix')\n",
    "\n",
    "fig.savefig(\"txt_classification-smote\" + \".png\", pad_inches=5.0)"
   ]
  }
 ],
 "metadata": {
  "accelerator": "GPU",
  "colab": {
   "machine_shape": "hm",
   "name": "Final Project - Amazon Reviews.ipynb",
   "provenance": [],
   "toc_visible": true
  },
  "kernelspec": {
   "display_name": "Python 3",
   "language": "python",
   "name": "python3"
  },
  "language_info": {
   "codemirror_mode": {
    "name": "ipython",
    "version": 3
   },
   "file_extension": ".py",
   "mimetype": "text/x-python",
   "name": "python",
   "nbconvert_exporter": "python",
   "pygments_lexer": "ipython3",
   "version": "3.7.4"
  }
 },
 "nbformat": 4,
 "nbformat_minor": 1
}
