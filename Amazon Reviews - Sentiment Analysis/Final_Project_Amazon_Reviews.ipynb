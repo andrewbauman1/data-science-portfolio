{
  "nbformat": 4,
  "nbformat_minor": 0,
  "metadata": {
    "colab": {
      "name": "Final Project - Amazon Reviews.ipynb",
      "provenance": [],
      "collapsed_sections": [],
      "toc_visible": true,
      "machine_shape": "hm"
    },
    "kernelspec": {
      "name": "python3",
      "display_name": "Python 3"
    },
    "accelerator": "GPU"
  },
  "cells": [
    {
      "cell_type": "markdown",
      "metadata": {
        "id": "4iKvJmi279Q1",
        "colab_type": "text"
      },
      "source": [
        "#Amazon Reviews Dataset\n",
        "An Analysis by Andrew Bauman and Allison Nowakowski\n",
        "\n",
        "Fall 2019"
      ]
    },
    {
      "cell_type": "code",
      "metadata": {
        "id": "8udBcass8vnm",
        "colab_type": "code",
        "outputId": "7a98c3ab-44e3-498b-d218-e594c606cf9b",
        "colab": {
          "base_uri": "https://localhost:8080/",
          "height": 85
        }
      },
      "source": [
        "#Importing the Amazon Reviews Dataset for Pet Products in the US Marketplace\n",
        "from urllib.request import urlretrieve\n",
        "import os\n",
        "\n",
        "def download(url, file):\n",
        "    if not os.path.isfile(file):\n",
        "        print(\"Download file... \" + file + \" ...\")\n",
        "        urlretrieve(url,file)\n",
        "        print(\"File downloaded\")\n",
        "\n",
        "download('https://s3.amazonaws.com/amazon-reviews-pds/tsv/amazon_reviews_us_Pet_Products_v1_00.tsv.gz','amazon_reviews_us_Pet_Products_v1_00.tsv.gz')\n",
        "print(\"All the files are downloaded\")\n",
        "\n",
        "#Verifying that the file was downloaded\n",
        "!ls "
      ],
      "execution_count": 0,
      "outputs": [
        {
          "output_type": "stream",
          "text": [
            "Download file... amazon_reviews_us_Pet_Products_v1_00.tsv.gz ...\n",
            "File downloaded\n",
            "All the files are downloaded\n",
            "amazon_reviews_us_Pet_Products_v1_00.tsv.gz  sample_data\n"
          ],
          "name": "stdout"
        }
      ]
    },
    {
      "cell_type": "code",
      "metadata": {
        "id": "bzm05bwp_D9t",
        "colab_type": "code",
        "outputId": "03d894b0-9430-438b-a327-3d6eecd5452d",
        "colab": {
          "base_uri": "https://localhost:8080/",
          "height": 955
        }
      },
      "source": [
        "#Creating a pandas dataframe with the data, skipping bad lines for now.\n",
        "import pandas as pd\n",
        "\n",
        "df = pd.read_csv('amazon_reviews_us_Pet_Products_v1_00.tsv.gz', compression='gzip', sep='\\t', header=0, error_bad_lines=False)\n",
        "df.head()"
      ],
      "execution_count": 0,
      "outputs": [
        {
          "output_type": "stream",
          "text": [
            "b'Skipping line 21404: expected 15 fields, saw 22\\nSkipping line 31839: expected 15 fields, saw 22\\nSkipping line 37779: expected 15 fields, saw 22\\nSkipping line 38344: expected 15 fields, saw 22\\nSkipping line 61449: expected 15 fields, saw 22\\n'\n",
            "b'Skipping line 80975: expected 15 fields, saw 22\\nSkipping line 85603: expected 15 fields, saw 22\\nSkipping line 95950: expected 15 fields, saw 22\\nSkipping line 105132: expected 15 fields, saw 22\\nSkipping line 115378: expected 15 fields, saw 22\\n'\n",
            "b'Skipping line 152632: expected 15 fields, saw 22\\nSkipping line 159310: expected 15 fields, saw 22\\nSkipping line 162724: expected 15 fields, saw 22\\nSkipping line 168588: expected 15 fields, saw 22\\nSkipping line 170412: expected 15 fields, saw 22\\nSkipping line 187169: expected 15 fields, saw 22\\n'\n",
            "b'Skipping line 205461: expected 15 fields, saw 22\\nSkipping line 210928: expected 15 fields, saw 22\\nSkipping line 213691: expected 15 fields, saw 22\\nSkipping line 228697: expected 15 fields, saw 22\\nSkipping line 229383: expected 15 fields, saw 22\\nSkipping line 235713: expected 15 fields, saw 22\\nSkipping line 240421: expected 15 fields, saw 22\\nSkipping line 253547: expected 15 fields, saw 22\\n'\n",
            "b'Skipping line 303488: expected 15 fields, saw 22\\nSkipping line 306271: expected 15 fields, saw 22\\nSkipping line 307701: expected 15 fields, saw 22\\nSkipping line 317078: expected 15 fields, saw 22\\n'\n",
            "b'Skipping line 331770: expected 15 fields, saw 22\\nSkipping line 340030: expected 15 fields, saw 22\\nSkipping line 343111: expected 15 fields, saw 22\\nSkipping line 347725: expected 15 fields, saw 22\\nSkipping line 352032: expected 15 fields, saw 22\\nSkipping line 363562: expected 15 fields, saw 22\\nSkipping line 366541: expected 15 fields, saw 22\\n'\n",
            "b'Skipping line 411700: expected 15 fields, saw 22\\nSkipping line 422970: expected 15 fields, saw 22\\nSkipping line 452274: expected 15 fields, saw 22\\n'\n",
            "b'Skipping line 478751: expected 15 fields, saw 22\\nSkipping line 492268: expected 15 fields, saw 22\\nSkipping line 524242: expected 15 fields, saw 22\\n'\n",
            "b'Skipping line 529833: expected 15 fields, saw 22\\nSkipping line 557261: expected 15 fields, saw 22\\nSkipping line 573734: expected 15 fields, saw 22\\n'\n",
            "b'Skipping line 609630: expected 15 fields, saw 22\\nSkipping line 619803: expected 15 fields, saw 22\\nSkipping line 630276: expected 15 fields, saw 22\\n'\n",
            "b'Skipping line 660802: expected 15 fields, saw 22\\nSkipping line 665431: expected 15 fields, saw 22\\nSkipping line 684186: expected 15 fields, saw 22\\nSkipping line 709599: expected 15 fields, saw 22\\nSkipping line 717969: expected 15 fields, saw 22\\n'\n",
            "b'Skipping line 730455: expected 15 fields, saw 22\\nSkipping line 760019: expected 15 fields, saw 22\\nSkipping line 771682: expected 15 fields, saw 22\\nSkipping line 772685: expected 15 fields, saw 22\\nSkipping line 780429: expected 15 fields, saw 22\\n'\n",
            "b'Skipping line 794285: expected 15 fields, saw 22\\nSkipping line 794600: expected 15 fields, saw 22\\nSkipping line 814105: expected 15 fields, saw 22\\nSkipping line 821013: expected 15 fields, saw 22\\nSkipping line 821572: expected 15 fields, saw 22\\nSkipping line 838818: expected 15 fields, saw 22\\n'\n",
            "b'Skipping line 882484: expected 15 fields, saw 22\\nSkipping line 884285: expected 15 fields, saw 22\\nSkipping line 889122: expected 15 fields, saw 22\\nSkipping line 903263: expected 15 fields, saw 22\\nSkipping line 905909: expected 15 fields, saw 22\\n'\n",
            "b'Skipping line 942971: expected 15 fields, saw 22\\nSkipping line 974189: expected 15 fields, saw 22\\nSkipping line 974322: expected 15 fields, saw 22\\nSkipping line 976014: expected 15 fields, saw 22\\nSkipping line 979587: expected 15 fields, saw 22\\n'\n",
            "b'Skipping line 984046: expected 15 fields, saw 22\\nSkipping line 987303: expected 15 fields, saw 22\\nSkipping line 988454: expected 15 fields, saw 22\\nSkipping line 1022324: expected 15 fields, saw 22\\nSkipping line 1040163: expected 15 fields, saw 22\\nSkipping line 1041725: expected 15 fields, saw 22\\nSkipping line 1042582: expected 15 fields, saw 22\\n'\n",
            "b'Skipping line 1050288: expected 15 fields, saw 22\\nSkipping line 1050916: expected 15 fields, saw 22\\nSkipping line 1058744: expected 15 fields, saw 22\\nSkipping line 1083177: expected 15 fields, saw 22\\nSkipping line 1100258: expected 15 fields, saw 22\\nSkipping line 1107278: expected 15 fields, saw 22\\nSkipping line 1111345: expected 15 fields, saw 22\\nSkipping line 1111479: expected 15 fields, saw 22\\n'\n",
            "b'Skipping line 1125823: expected 15 fields, saw 22\\nSkipping line 1129482: expected 15 fields, saw 22\\nSkipping line 1131952: expected 15 fields, saw 22\\nSkipping line 1155388: expected 15 fields, saw 22\\nSkipping line 1169389: expected 15 fields, saw 22\\nSkipping line 1173501: expected 15 fields, saw 22\\nSkipping line 1176301: expected 15 fields, saw 22\\n'\n",
            "b'Skipping line 1186651: expected 15 fields, saw 22\\nSkipping line 1195294: expected 15 fields, saw 22\\nSkipping line 1196071: expected 15 fields, saw 22\\nSkipping line 1203091: expected 15 fields, saw 22\\nSkipping line 1205015: expected 15 fields, saw 22\\nSkipping line 1217204: expected 15 fields, saw 22\\nSkipping line 1220082: expected 15 fields, saw 22\\nSkipping line 1231204: expected 15 fields, saw 22\\nSkipping line 1231448: expected 15 fields, saw 22\\nSkipping line 1238917: expected 15 fields, saw 22\\n'\n",
            "b'Skipping line 1255057: expected 15 fields, saw 22\\nSkipping line 1285411: expected 15 fields, saw 22\\nSkipping line 1287752: expected 15 fields, saw 22\\nSkipping line 1292711: expected 15 fields, saw 22\\nSkipping line 1299584: expected 15 fields, saw 22\\nSkipping line 1302522: expected 15 fields, saw 22\\nSkipping line 1304105: expected 15 fields, saw 22\\n'\n",
            "b'Skipping line 1332110: expected 15 fields, saw 22\\nSkipping line 1340500: expected 15 fields, saw 22\\nSkipping line 1343112: expected 15 fields, saw 22\\nSkipping line 1343246: expected 15 fields, saw 22\\nSkipping line 1343848: expected 15 fields, saw 22\\nSkipping line 1351907: expected 15 fields, saw 22\\nSkipping line 1355456: expected 15 fields, saw 22\\nSkipping line 1364074: expected 15 fields, saw 22\\nSkipping line 1365046: expected 15 fields, saw 22\\nSkipping line 1375358: expected 15 fields, saw 22\\n'\n",
            "b'Skipping line 1469126: expected 15 fields, saw 22\\nSkipping line 1480057: expected 15 fields, saw 22\\nSkipping line 1506711: expected 15 fields, saw 22\\n'\n",
            "b'Skipping line 1616037: expected 15 fields, saw 22\\n'\n",
            "b'Skipping line 1773884: expected 15 fields, saw 22\\nSkipping line 1825979: expected 15 fields, saw 22\\n'\n"
          ],
          "name": "stderr"
        },
        {
          "output_type": "execute_result",
          "data": {
            "text/html": [
              "<div>\n",
              "<style scoped>\n",
              "    .dataframe tbody tr th:only-of-type {\n",
              "        vertical-align: middle;\n",
              "    }\n",
              "\n",
              "    .dataframe tbody tr th {\n",
              "        vertical-align: top;\n",
              "    }\n",
              "\n",
              "    .dataframe thead th {\n",
              "        text-align: right;\n",
              "    }\n",
              "</style>\n",
              "<table border=\"1\" class=\"dataframe\">\n",
              "  <thead>\n",
              "    <tr style=\"text-align: right;\">\n",
              "      <th></th>\n",
              "      <th>marketplace</th>\n",
              "      <th>customer_id</th>\n",
              "      <th>review_id</th>\n",
              "      <th>product_id</th>\n",
              "      <th>product_parent</th>\n",
              "      <th>product_title</th>\n",
              "      <th>product_category</th>\n",
              "      <th>star_rating</th>\n",
              "      <th>helpful_votes</th>\n",
              "      <th>total_votes</th>\n",
              "      <th>vine</th>\n",
              "      <th>verified_purchase</th>\n",
              "      <th>review_headline</th>\n",
              "      <th>review_body</th>\n",
              "      <th>review_date</th>\n",
              "    </tr>\n",
              "  </thead>\n",
              "  <tbody>\n",
              "    <tr>\n",
              "      <th>0</th>\n",
              "      <td>US</td>\n",
              "      <td>28794885</td>\n",
              "      <td>REAKC26P07MDN</td>\n",
              "      <td>B00Q0K9604</td>\n",
              "      <td>510387886</td>\n",
              "      <td>(8-Pack) EZwhelp Belly Band/Wrap</td>\n",
              "      <td>Pet Products</td>\n",
              "      <td>5.0</td>\n",
              "      <td>0.0</td>\n",
              "      <td>0.0</td>\n",
              "      <td>N</td>\n",
              "      <td>Y</td>\n",
              "      <td>A great purchase for \"dribbly\" dogs</td>\n",
              "      <td>Best belly bands on the market!  These are a g...</td>\n",
              "      <td>2015-08-31</td>\n",
              "    </tr>\n",
              "    <tr>\n",
              "      <th>1</th>\n",
              "      <td>US</td>\n",
              "      <td>11488901</td>\n",
              "      <td>R3NU7OMZ4HQIEG</td>\n",
              "      <td>B00MBW5O9W</td>\n",
              "      <td>912374672</td>\n",
              "      <td>Warren Eckstein's Hugs &amp; Kisses Vitamin Minera...</td>\n",
              "      <td>Pet Products</td>\n",
              "      <td>2.0</td>\n",
              "      <td>0.0</td>\n",
              "      <td>1.0</td>\n",
              "      <td>N</td>\n",
              "      <td>Y</td>\n",
              "      <td>My dogs love Hugs and Kisses</td>\n",
              "      <td>My dogs love Hugs and Kisses.  However, the la...</td>\n",
              "      <td>2015-08-31</td>\n",
              "    </tr>\n",
              "    <tr>\n",
              "      <th>2</th>\n",
              "      <td>US</td>\n",
              "      <td>43214993</td>\n",
              "      <td>R14QJW3XF8QO1P</td>\n",
              "      <td>B0084OHUIO</td>\n",
              "      <td>902215727</td>\n",
              "      <td>Tyson's True Chews Premium Jerky - 12 ounce Ch...</td>\n",
              "      <td>Pet Products</td>\n",
              "      <td>5.0</td>\n",
              "      <td>0.0</td>\n",
              "      <td>0.0</td>\n",
              "      <td>N</td>\n",
              "      <td>Y</td>\n",
              "      <td>I have been purchasing these for a long time. ...</td>\n",
              "      <td>I have been purchasing these for a long time. ...</td>\n",
              "      <td>2015-08-31</td>\n",
              "    </tr>\n",
              "    <tr>\n",
              "      <th>3</th>\n",
              "      <td>US</td>\n",
              "      <td>12835065</td>\n",
              "      <td>R2HB7AX0394ZGY</td>\n",
              "      <td>B001GS71K2</td>\n",
              "      <td>568880110</td>\n",
              "      <td>Soft Side Pet Crate, Navy/Tan</td>\n",
              "      <td>Pet Products</td>\n",
              "      <td>5.0</td>\n",
              "      <td>0.0</td>\n",
              "      <td>0.0</td>\n",
              "      <td>N</td>\n",
              "      <td>Y</td>\n",
              "      <td>it is easy to open and close</td>\n",
              "      <td>It is extremely well constructed, it is easy t...</td>\n",
              "      <td>2015-08-31</td>\n",
              "    </tr>\n",
              "    <tr>\n",
              "      <th>4</th>\n",
              "      <td>US</td>\n",
              "      <td>26334022</td>\n",
              "      <td>RGKMPDQGSAHR3</td>\n",
              "      <td>B004ABH1LG</td>\n",
              "      <td>692846826</td>\n",
              "      <td>EliteField 3-Door Folding Soft Dog Crate, Indo...</td>\n",
              "      <td>Pet Products</td>\n",
              "      <td>5.0</td>\n",
              "      <td>0.0</td>\n",
              "      <td>0.0</td>\n",
              "      <td>N</td>\n",
              "      <td>Y</td>\n",
              "      <td>Dog crate</td>\n",
              "      <td>Worked really well.  Very pleased with my purc...</td>\n",
              "      <td>2015-08-31</td>\n",
              "    </tr>\n",
              "  </tbody>\n",
              "</table>\n",
              "</div>"
            ],
            "text/plain": [
              "  marketplace  ...  review_date\n",
              "0          US  ...   2015-08-31\n",
              "1          US  ...   2015-08-31\n",
              "2          US  ...   2015-08-31\n",
              "3          US  ...   2015-08-31\n",
              "4          US  ...   2015-08-31\n",
              "\n",
              "[5 rows x 15 columns]"
            ]
          },
          "metadata": {
            "tags": []
          },
          "execution_count": 2
        }
      ]
    },
    {
      "cell_type": "code",
      "metadata": {
        "id": "lOf4GD6UAR6U",
        "colab_type": "code",
        "outputId": "58b09c16-e0e7-46fa-aaea-fd6e7c6ea693",
        "colab": {
          "base_uri": "https://localhost:8080/",
          "height": 357
        }
      },
      "source": [
        "#Previewing the data\n",
        "df.info()"
      ],
      "execution_count": 0,
      "outputs": [
        {
          "output_type": "stream",
          "text": [
            "<class 'pandas.core.frame.DataFrame'>\n",
            "RangeIndex: 2639853 entries, 0 to 2639852\n",
            "Data columns (total 15 columns):\n",
            "marketplace          object\n",
            "customer_id          int64\n",
            "review_id            object\n",
            "product_id           object\n",
            "product_parent       int64\n",
            "product_title        object\n",
            "product_category     object\n",
            "star_rating          float64\n",
            "helpful_votes        float64\n",
            "total_votes          float64\n",
            "vine                 object\n",
            "verified_purchase    object\n",
            "review_headline      object\n",
            "review_body          object\n",
            "review_date          object\n",
            "dtypes: float64(3), int64(2), object(10)\n",
            "memory usage: 302.1+ MB\n"
          ],
          "name": "stdout"
        }
      ]
    },
    {
      "cell_type": "code",
      "metadata": {
        "id": "idwSa3xXA3rI",
        "colab_type": "code",
        "outputId": "64e5d1e3-af60-42be-e4ee-be6b02644c6b",
        "colab": {
          "base_uri": "https://localhost:8080/",
          "height": 221
        }
      },
      "source": [
        "#Cleaning/Simplifying the dataset\n",
        "#Removing unnecessary columns and only keeping reviews from verified purchases.\n",
        "df=df[['review_id', 'star_rating', 'verified_purchase', 'helpful_votes', 'total_votes', 'review_headline', 'review_body']]\n",
        "df.info()"
      ],
      "execution_count": 0,
      "outputs": [
        {
          "output_type": "stream",
          "text": [
            "<class 'pandas.core.frame.DataFrame'>\n",
            "RangeIndex: 2639853 entries, 0 to 2639852\n",
            "Data columns (total 7 columns):\n",
            "review_id            object\n",
            "star_rating          float64\n",
            "verified_purchase    object\n",
            "helpful_votes        float64\n",
            "total_votes          float64\n",
            "review_headline      object\n",
            "review_body          object\n",
            "dtypes: float64(3), object(4)\n",
            "memory usage: 141.0+ MB\n"
          ],
          "name": "stdout"
        }
      ]
    },
    {
      "cell_type": "code",
      "metadata": {
        "id": "OmZOPJaNCScT",
        "colab_type": "code",
        "outputId": "7d152c33-b6cd-4f99-c14b-1224a850af2e",
        "colab": {
          "base_uri": "https://localhost:8080/",
          "height": 235
        }
      },
      "source": [
        "#Viewing the data\n",
        "import seaborn as sns\n",
        "df.groupby('star_rating').count()"
      ],
      "execution_count": 0,
      "outputs": [
        {
          "output_type": "execute_result",
          "data": {
            "text/html": [
              "<div>\n",
              "<style scoped>\n",
              "    .dataframe tbody tr th:only-of-type {\n",
              "        vertical-align: middle;\n",
              "    }\n",
              "\n",
              "    .dataframe tbody tr th {\n",
              "        vertical-align: top;\n",
              "    }\n",
              "\n",
              "    .dataframe thead th {\n",
              "        text-align: right;\n",
              "    }\n",
              "</style>\n",
              "<table border=\"1\" class=\"dataframe\">\n",
              "  <thead>\n",
              "    <tr style=\"text-align: right;\">\n",
              "      <th></th>\n",
              "      <th>review_id</th>\n",
              "      <th>verified_purchase</th>\n",
              "      <th>helpful_votes</th>\n",
              "      <th>total_votes</th>\n",
              "      <th>review_headline</th>\n",
              "      <th>review_body</th>\n",
              "    </tr>\n",
              "    <tr>\n",
              "      <th>star_rating</th>\n",
              "      <th></th>\n",
              "      <th></th>\n",
              "      <th></th>\n",
              "      <th></th>\n",
              "      <th></th>\n",
              "      <th></th>\n",
              "    </tr>\n",
              "  </thead>\n",
              "  <tbody>\n",
              "    <tr>\n",
              "      <th>1.0</th>\n",
              "      <td>248519</td>\n",
              "      <td>248519</td>\n",
              "      <td>248519</td>\n",
              "      <td>248519</td>\n",
              "      <td>248517</td>\n",
              "      <td>248497</td>\n",
              "    </tr>\n",
              "    <tr>\n",
              "      <th>2.0</th>\n",
              "      <td>151067</td>\n",
              "      <td>151067</td>\n",
              "      <td>151067</td>\n",
              "      <td>151067</td>\n",
              "      <td>151065</td>\n",
              "      <td>151067</td>\n",
              "    </tr>\n",
              "    <tr>\n",
              "      <th>3.0</th>\n",
              "      <td>216335</td>\n",
              "      <td>216335</td>\n",
              "      <td>216335</td>\n",
              "      <td>216335</td>\n",
              "      <td>216335</td>\n",
              "      <td>216327</td>\n",
              "    </tr>\n",
              "    <tr>\n",
              "      <th>4.0</th>\n",
              "      <td>380780</td>\n",
              "      <td>380780</td>\n",
              "      <td>380780</td>\n",
              "      <td>380780</td>\n",
              "      <td>380779</td>\n",
              "      <td>380751</td>\n",
              "    </tr>\n",
              "    <tr>\n",
              "      <th>5.0</th>\n",
              "      <td>1643151</td>\n",
              "      <td>1643151</td>\n",
              "      <td>1643151</td>\n",
              "      <td>1643151</td>\n",
              "      <td>1643147</td>\n",
              "      <td>1642994</td>\n",
              "    </tr>\n",
              "  </tbody>\n",
              "</table>\n",
              "</div>"
            ],
            "text/plain": [
              "             review_id  verified_purchase  ...  review_headline  review_body\n",
              "star_rating                                ...                              \n",
              "1.0             248519             248519  ...           248517       248497\n",
              "2.0             151067             151067  ...           151065       151067\n",
              "3.0             216335             216335  ...           216335       216327\n",
              "4.0             380780             380780  ...           380779       380751\n",
              "5.0            1643151            1643151  ...          1643147      1642994\n",
              "\n",
              "[5 rows x 6 columns]"
            ]
          },
          "metadata": {
            "tags": []
          },
          "execution_count": 5
        }
      ]
    },
    {
      "cell_type": "code",
      "metadata": {
        "id": "5HJ41NGC_x0m",
        "colab_type": "code",
        "outputId": "7a03aa4e-4a9e-43bb-d675-7c8da46cdea4",
        "colab": {
          "base_uri": "https://localhost:8080/",
          "height": 119
        }
      },
      "source": [
        "#Dropping rows without reviews\n",
        "df_filtered = df.dropna()\n",
        "df_filtered = df_filtered.reset_index(drop=True)\n",
        "df_filtered.groupby('star_rating').count()\n",
        "\n",
        "df_filtered.star_rating.value_counts()"
      ],
      "execution_count": 0,
      "outputs": [
        {
          "output_type": "execute_result",
          "data": {
            "text/plain": [
              "5.0    1642990\n",
              "4.0     380750\n",
              "1.0     248495\n",
              "3.0     216327\n",
              "2.0     151065\n",
              "Name: star_rating, dtype: int64"
            ]
          },
          "metadata": {
            "tags": []
          },
          "execution_count": 21
        }
      ]
    },
    {
      "cell_type": "code",
      "metadata": {
        "id": "XvGgD1w7CVgu",
        "colab_type": "code",
        "outputId": "13a3e5a8-9636-4700-9caf-548cc8cea97b",
        "colab": {
          "base_uri": "https://localhost:8080/",
          "height": 297
        }
      },
      "source": [
        "#Viewing the data\n",
        "sns.countplot(df_filtered.star_rating)"
      ],
      "execution_count": 0,
      "outputs": [
        {
          "output_type": "execute_result",
          "data": {
            "text/plain": [
              "<matplotlib.axes._subplots.AxesSubplot at 0x7f7f159c51d0>"
            ]
          },
          "metadata": {
            "tags": []
          },
          "execution_count": 7
        },
        {
          "output_type": "display_data",
          "data": {
            "image/png": "[encoded data removed]",
            "text/plain": [
              "<Figure size 432x288 with 1 Axes>"
            ]
          },
          "metadata": {
            "tags": []
          }
        }
      ]
    },
    {
      "cell_type": "code",
      "metadata": {
        "id": "0Oc6TnsrLW_L",
        "colab_type": "code",
        "outputId": "1426aa29-e2ae-4c7f-ff56-27c8a0f5f473",
        "colab": {
          "base_uri": "https://localhost:8080/",
          "height": 34
        }
      },
      "source": [
        "df_minority = df_filtered[df_filtered.star_rating==2.0]\n",
        "df_minority_count = df_minority.size\n",
        "df_minority_count"
      ],
      "execution_count": 0,
      "outputs": [
        {
          "output_type": "execute_result",
          "data": {
            "text/plain": [
              "1057455"
            ]
          },
          "metadata": {
            "tags": []
          },
          "execution_count": 8
        }
      ]
    },
    {
      "cell_type": "code",
      "metadata": {
        "id": "_gYuluauHXmj",
        "colab_type": "code",
        "outputId": "ec796ad8-40e3-47bb-e4d5-f69fa3a63373",
        "colab": {
          "base_uri": "https://localhost:8080/",
          "height": 119
        }
      },
      "source": [
        "from sklearn.utils import resample\n",
        "#Balancing the data\n",
        "df_majority = df_filtered[df_filtered.star_rating==5.0]\n",
        "df_minority = df_filtered[df_filtered.star_rating==2.0]\n",
        "df_oneStar = df_filtered[df_filtered.star_rating==1.0]\n",
        "df_threeStars = df_filtered[df_filtered.star_rating==3.0]\n",
        "df_fourStars = df_filtered[df_filtered.star_rating==4.0]\n",
        "df_minority_count = df_minority.count\n",
        "\n",
        "# Downsample majority class\n",
        "df_majority_downsampled = resample(df_majority, \n",
        "                                  replace=False,    # sample without replacement\n",
        "                                  n_samples=151065, # to match minority class\n",
        "                                  random_state=123) # reproducible results\n",
        "\n",
        "# Combine minority class with downsampled majority class\n",
        "df_downsampled = pd.concat([df_majority_downsampled, df_minority, df_oneStar, df_threeStars, df_fourStars])\n",
        "\n",
        "# Display new class counts\n",
        "df_downsampled.star_rating.value_counts()"
      ],
      "execution_count": 0,
      "outputs": [
        {
          "output_type": "execute_result",
          "data": {
            "text/plain": [
              "4.0    380750\n",
              "1.0    248495\n",
              "3.0    216327\n",
              "5.0    151065\n",
              "2.0    151065\n",
              "Name: star_rating, dtype: int64"
            ]
          },
          "metadata": {
            "tags": []
          },
          "execution_count": 9
        }
      ]
    },
    {
      "cell_type": "code",
      "metadata": {
        "id": "ourA0kgvMV50",
        "colab_type": "code",
        "outputId": "e4722b4b-bcc2-4352-d817-f420d1901c8c",
        "colab": {
          "base_uri": "https://localhost:8080/",
          "height": 297
        }
      },
      "source": [
        "#Viewing the downsampled data\n",
        "sns.countplot(df_downsampled.star_rating)"
      ],
      "execution_count": 0,
      "outputs": [
        {
          "output_type": "execute_result",
          "data": {
            "text/plain": [
              "<matplotlib.axes._subplots.AxesSubplot at 0x7f7f15975ac8>"
            ]
          },
          "metadata": {
            "tags": []
          },
          "execution_count": 10
        },
        {
          "output_type": "display_data",
          "data": {
            "image/png": "[encoded data removed]",
            "text/plain": [
              "<Figure size 432x288 with 1 Axes>"
            ]
          },
          "metadata": {
            "tags": []
          }
        }
      ]
    },
    {
      "cell_type": "code",
      "metadata": {
        "id": "7oM74r3qMh4V",
        "colab_type": "code",
        "colab": {}
      },
      "source": [
        "import numpy as np\n",
        "from sklearn.model_selection import train_test_split\n",
        "\n",
        "testData, trainData = train_test_split(df_downsampled, test_size=0.33, random_state=42)\n"
      ],
      "execution_count": 0,
      "outputs": []
    },
    {
      "cell_type": "code",
      "metadata": {
        "id": "464dtrywV356",
        "colab_type": "code",
        "outputId": "da84f30d-f25a-4b4f-f4e5-239c27a5699e",
        "colab": {
          "base_uri": "https://localhost:8080/",
          "height": 34
        }
      },
      "source": [
        "trainData.size"
      ],
      "execution_count": 0,
      "outputs": [
        {
          "output_type": "execute_result",
          "data": {
            "text/plain": [
              "2651194"
            ]
          },
          "metadata": {
            "tags": []
          },
          "execution_count": 13
        }
      ]
    },
    {
      "cell_type": "code",
      "metadata": {
        "id": "81Uq0koxWCWx",
        "colab_type": "code",
        "outputId": "05059571-5260-4c73-a557-bcd5981afc48",
        "colab": {
          "base_uri": "https://localhost:8080/",
          "height": 34
        }
      },
      "source": [
        "testData.size"
      ],
      "execution_count": 0,
      "outputs": [
        {
          "output_type": "execute_result",
          "data": {
            "text/plain": [
              "5382720"
            ]
          },
          "metadata": {
            "tags": []
          },
          "execution_count": 14
        }
      ]
    },
    {
      "cell_type": "code",
      "metadata": {
        "id": "KBo09t2SXfZ7",
        "colab_type": "code",
        "outputId": "15d78d66-dc2a-4769-f74e-042c1a34d28a",
        "colab": {
          "base_uri": "https://localhost:8080/",
          "height": 391
        }
      },
      "source": [
        "#Defining a pipeline\n",
        "from sklearn.feature_extraction.text import CountVectorizer\n",
        "from sklearn.feature_extraction.text import TfidfTransformer\n",
        "from sklearn.linear_model import LogisticRegression\n",
        "from sklearn.pipeline import Pipeline\n",
        "text_clf = Pipeline([\n",
        "    ('vect', CountVectorizer()), #adding stop_words='english' lowers accuracy\n",
        "    ('tfidf', TfidfTransformer()),\n",
        "    ('clf', LogisticRegression(random_state=42, solver='sag', multi_class='ovr')),\n",
        "])\n",
        "text_clf.fit(trainData.review_body, trainData.star_rating)"
      ],
      "execution_count": 0,
      "outputs": [
        {
          "output_type": "execute_result",
          "data": {
            "text/plain": [
              "Pipeline(memory=None,\n",
              "         steps=[('vect',\n",
              "                 CountVectorizer(analyzer='word', binary=False,\n",
              "                                 decode_error='strict',\n",
              "                                 dtype=<class 'numpy.int64'>, encoding='utf-8',\n",
              "                                 input='content', lowercase=True, max_df=1.0,\n",
              "                                 max_features=None, min_df=1,\n",
              "                                 ngram_range=(1, 1), preprocessor=None,\n",
              "                                 stop_words=None, strip_accents=None,\n",
              "                                 token_pattern='(?u)\\\\b\\\\w\\\\w+\\\\b',\n",
              "                                 tokenizer=None, vocabulary=None)),\n",
              "                ('tfidf',\n",
              "                 TfidfTransformer(norm='l2', smooth_idf=True,\n",
              "                                  sublinear_tf=False, use_idf=True)),\n",
              "                ('clf',\n",
              "                 LogisticRegression(C=1.0, class_weight=None, dual=False,\n",
              "                                    fit_intercept=True, intercept_scaling=1,\n",
              "                                    l1_ratio=None, max_iter=100,\n",
              "                                    multi_class='ovr', n_jobs=None,\n",
              "                                    penalty='l2', random_state=42, solver='sag',\n",
              "                                    tol=0.0001, verbose=0, warm_start=False))],\n",
              "         verbose=False)"
            ]
          },
          "metadata": {
            "tags": []
          },
          "execution_count": 15
        }
      ]
    },
    {
      "cell_type": "code",
      "metadata": {
        "id": "DB50_nm_XsHU",
        "colab_type": "code",
        "outputId": "099d0afc-8c4e-4e65-e921-6e378d962499",
        "colab": {
          "base_uri": "https://localhost:8080/",
          "height": 34
        }
      },
      "source": [
        "#Testing the classifer\n",
        "test_docs = testData.review_body\n",
        "predictions = text_clf.predict(test_docs)\n",
        "#Evaluating predictive accuracy of the classifier\n",
        "np.mean(predictions == testData.star_rating)"
      ],
      "execution_count": 0,
      "outputs": [
        {
          "output_type": "execute_result",
          "data": {
            "text/plain": [
              "0.5467306491885143"
            ]
          },
          "metadata": {
            "tags": []
          },
          "execution_count": 17
        }
      ]
    },
    {
      "cell_type": "code",
      "metadata": {
        "id": "1zqEuc0dXxK7",
        "colab_type": "code",
        "outputId": "8c2d11ec-0a2f-447e-c1e8-e07e6e8e28b2",
        "colab": {
          "base_uri": "https://localhost:8080/",
          "height": 221
        }
      },
      "source": [
        "#Printing the model metrics\n",
        "from sklearn import metrics\n",
        "print(metrics.classification_report(testData.star_rating, predictions))"
      ],
      "execution_count": 0,
      "outputs": [
        {
          "output_type": "stream",
          "text": [
            "              precision    recall  f1-score   support\n",
            "\n",
            "         1.0       0.60      0.79      0.68    166328\n",
            "         2.0       0.35      0.10      0.15    101078\n",
            "         3.0       0.42      0.30      0.35    144821\n",
            "         4.0       0.55      0.77      0.64    255292\n",
            "         5.0       0.60      0.41      0.49    101441\n",
            "\n",
            "    accuracy                           0.55    768960\n",
            "   macro avg       0.51      0.47      0.46    768960\n",
            "weighted avg       0.52      0.55      0.51    768960\n",
            "\n"
          ],
          "name": "stdout"
        }
      ]
    },
    {
      "cell_type": "markdown",
      "metadata": {
        "id": "unmtzLrVk4yP",
        "colab_type": "text"
      },
      "source": [
        "Comparing our model's results to state-of-the-art methods:\n",
        "\n",
        "https://paperswithcode.com/sota/sentiment-analysis-on-amazon-review-full"
      ]
    },
    {
      "cell_type": "markdown",
      "metadata": {
        "id": "FiAZcsx2sg0L",
        "colab_type": "text"
      },
      "source": [
        "# NOTE\n",
        "\n",
        "The code below is unable to be run on google colab (not enough RAM) and, therefore, we have been unable to run the model and test its accuracy. It is our attempt to create a version of the above model using keras and neural networks. "
      ]
    },
    {
      "cell_type": "code",
      "metadata": {
        "id": "l1xqfEmbZMRW",
        "colab_type": "code",
        "colab": {}
      },
      "source": [
        "#Neural Network Model -- CANNOT RUN ON GOOGLE COLAB;\n",
        "import keras\n",
        "from keras.preprocessing.text import Tokenizer\n",
        "from keras.models import Sequential\n",
        "from keras.layers import Activation, Dense, Dropout\n",
        "from sklearn.preprocessing import LabelBinarizer"
      ],
      "execution_count": 0,
      "outputs": []
    },
    {
      "cell_type": "code",
      "metadata": {
        "id": "VD8DvNO6ZNR2",
        "colab_type": "code",
        "colab": {}
      },
      "source": [
        "num_labels = 5\n",
        "vocab_size = 15000\n",
        "batch_size = 100\n",
        " \n",
        "# define Tokenizer with Vocab Size\n",
        "tokenizer = Tokenizer(num_words=vocab_size)\n",
        "tokenizer.fit_on_texts(trainData.review_body)\n",
        " \n",
        "x_train = tokenizer.texts_to_matrix(trainData.review_body, mode='tfidf')\n",
        "x_test = tokenizer.texts_to_matrix(testData.review_body, mode='tfidf')\n",
        "\n",
        "encoder = LabelBinarizer()\n",
        "encoder.fit(trainData.review_body)\n",
        "y_train = encoder.transform(trainData.review_body)\n",
        "y_test = encoder.transform(testData.review_body)"
      ],
      "execution_count": 0,
      "outputs": []
    },
    {
      "cell_type": "code",
      "metadata": {
        "id": "roHcPwS6Z-6K",
        "colab_type": "code",
        "colab": {}
      },
      "source": [
        "callbacks_list = [\n",
        "    keras.callbacks.EarlyStopping(\n",
        "        monitor='val_loss',\n",
        "        patience=1,\n",
        "        verbose=1,\n",
        "    ),\n",
        "]\n",
        "\n",
        "model = Sequential()\n",
        "model.add(Dense(512, input_shape=(vocab_size,)))\n",
        "model.add(Activation('relu'))\n",
        "model.add(Dropout(0.3))\n",
        "model.add(Dense(512))\n",
        "model.add(Activation('relu'))\n",
        "model.add(Dropout(0.3))\n",
        "model.add(Dense(num_labels))\n",
        "model.add(Activation('softmax'))\n",
        "model.summary()\n",
        " \n",
        "model.compile(loss='categorical_crossentropy',\n",
        "              optimizer='adam',\n",
        "              metrics=['accuracy'])\n",
        " \n",
        "history = model.fit(x_train, y_train,\n",
        "                    batch_size=batch_size,\n",
        "                    epochs=30,\n",
        "                    verbose=1,\n",
        "                    callbacks=callbacks_list,\n",
        "                    validation_data=(x_train, y_train))"
      ],
      "execution_count": 0,
      "outputs": []
    },
    {
      "cell_type": "code",
      "metadata": {
        "id": "k07RRrNpeGJj",
        "colab_type": "code",
        "colab": {}
      },
      "source": [
        "#Evaluating the model\n",
        "score = model.evaluate(x_test, y_test,\n",
        "                       batch_size=batch_size, verbose=1)\n",
        " \n",
        "print('Test accuracy:', score[1])\n",
        " \n",
        "text_labels = encoder.classes_\n",
        " \n",
        "for i in range(10):\n",
        "    prediction = model.predict(np.array([x_test[i]]))\n",
        "    predicted_label = text_labels[np.argmax(prediction[0])]\n",
        "    print(test_data.filename.iloc[i])\n",
        "    print('Actual label:' + test_data.category.iloc[i])\n",
        "    print(\"Predicted label: \" + predicted_label)"
      ],
      "execution_count": 0,
      "outputs": []
    },
    {
      "cell_type": "code",
      "metadata": {
        "id": "4jO6qy3weG1o",
        "colab_type": "code",
        "colab": {}
      },
      "source": [
        "#Evaluating the model\n",
        "score = model.evaluate(x_test, y_test,\n",
        "                       batch_size=batch_size, verbose=1)\n",
        " \n",
        "print('Test accuracy:', score[1])\n",
        " \n",
        "text_labels = encoder.classes_\n",
        " \n",
        "for i in range(10):\n",
        "    prediction = model.predict(np.array([x_test[i]]))\n",
        "    predicted_label = text_labels[np.argmax(prediction[0])]\n",
        "    print(test_data.filename.iloc[i])\n",
        "    print('Actual label:' + test_data.category.iloc[i])\n",
        "    print(\"Predicted label: \" + predicted_label)"
      ],
      "execution_count": 0,
      "outputs": []
    },
    {
      "cell_type": "code",
      "metadata": {
        "id": "X7M5n-FseLz4",
        "colab_type": "code",
        "colab": {}
      },
      "source": [
        "#Confusion Matrix\n",
        "\n",
        "def plot_confusion_matrix(cm, classes,\n",
        "                          normalize=False,\n",
        "                          title='Confusion matrix',\n",
        "                          cmap=plt.cm.Blues):\n",
        "    \"\"\"\n",
        "    This function prints and plots the confusion matrix.\n",
        "    Normalization can be applied by setting `normalize=True`.\n",
        "    \"\"\"\n",
        "    if normalize:\n",
        "        cm = cm.astype('float') / cm.sum(axis=1)[:, np.newaxis]\n",
        "        print(\"Normalized confusion matrix\")\n",
        "    else:\n",
        "        print('Confusion matrix, without normalization')\n",
        "\n",
        "    # print(cm)\n",
        "\n",
        "    plt.imshow(cm, interpolation='nearest', cmap=cmap)\n",
        "    plt.title(title)\n",
        "    plt.colorbar()\n",
        "    tick_marks = np.arange(len(classes))\n",
        "    plt.xticks(tick_marks, classes, rotation=90)\n",
        "    plt.yticks(tick_marks, classes)\n",
        "\n",
        "    fmt = '.2f' if normalize else 'd'\n",
        "    thresh = cm.max() / 2.\n",
        "    for i, j in itertools.product(range(cm.shape[0]), range(cm.shape[1])):\n",
        "        plt.text(j, i, format(cm[i, j], fmt),\n",
        "                 horizontalalignment=\"center\",\n",
        "                 color=\"white\" if cm[i, j] > thresh else \"black\")\n",
        "\n",
        "    plt.tight_layout()\n",
        "    plt.ylabel('True label')\n",
        "    plt.xlabel('Predicted label')\n",
        "\n",
        "\n",
        "y_pred = model.predict(x_test);\n",
        "cnf_matrix = metrics.confusion_matrix(np.argmax(y_test, axis=1), np.argmax(y_pred, axis=1))\n",
        "\n",
        "# Plot normalized confusion matrix\n",
        "fig = plt.figure()\n",
        "fig.set_size_inches(14, 12, forward=True)\n",
        "#fig.align_labels()\n",
        "\n",
        "# fig.subplots_adjust(left=0.0, right=1.0, bottom=0.0, top=1.0)\n",
        "plot_confusion_matrix(cnf_matrix, classes=np.asarray(label_names), normalize=True,\n",
        "                      title='Normalized confusion matrix')\n",
        "\n",
        "fig.savefig(\"txt_classification-smote\" + \".png\", pad_inches=5.0)"
      ],
      "execution_count": 0,
      "outputs": []
    }
  ]
}