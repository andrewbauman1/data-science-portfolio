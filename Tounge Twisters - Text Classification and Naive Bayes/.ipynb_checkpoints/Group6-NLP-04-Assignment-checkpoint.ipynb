{
 "cells": [
  {
   "cell_type": "code",
   "execution_count": 1,
   "metadata": {
    "colab": {},
    "colab_type": "code",
    "id": "5EPC_hl-aFf-"
   },
   "outputs": [],
   "source": [
    "import pandas as pd\n",
    "import numpy as np\n",
    "import matplotlib.pyplot as plt\n",
    "import seaborn as sns\n",
    "%matplotlib inline"
   ]
  },
  {
   "cell_type": "code",
   "execution_count": 2,
   "metadata": {
    "colab": {
     "base_uri": "https://localhost:8080/",
     "height": 204
    },
    "colab_type": "code",
    "executionInfo": {
     "elapsed": 934,
     "status": "ok",
     "timestamp": 1569951764035,
     "user": {
      "displayName": "Allison Nowakowski",
      "photoUrl": "",
      "userId": "11962716709001588350"
     },
     "user_tz": 240
    },
    "id": "XprT3U8TaFgC",
    "outputId": "d5b26016-f237-4486-f61f-efc0542cd4c3"
   },
   "outputs": [
    {
     "data": {
      "text/html": [
       "<div>\n",
       "<style scoped>\n",
       "    .dataframe tbody tr th:only-of-type {\n",
       "        vertical-align: middle;\n",
       "    }\n",
       "\n",
       "    .dataframe tbody tr th {\n",
       "        vertical-align: top;\n",
       "    }\n",
       "\n",
       "    .dataframe thead th {\n",
       "        text-align: right;\n",
       "    }\n",
       "</style>\n",
       "<table border=\"1\" class=\"dataframe\">\n",
       "  <thead>\n",
       "    <tr style=\"text-align: right;\">\n",
       "      <th></th>\n",
       "      <th>Description</th>\n",
       "      <th>Category</th>\n",
       "    </tr>\n",
       "  </thead>\n",
       "  <tbody>\n",
       "    <tr>\n",
       "      <th>0</th>\n",
       "      <td>Peter Piper picked a peck of pickled peppers.</td>\n",
       "      <td>C1</td>\n",
       "    </tr>\n",
       "    <tr>\n",
       "      <th>1</th>\n",
       "      <td>A peck of pickled peppers Peter Piper picked.</td>\n",
       "      <td>C1</td>\n",
       "    </tr>\n",
       "    <tr>\n",
       "      <th>2</th>\n",
       "      <td>Where is the peck of pickled peppers Peter Pip...</td>\n",
       "      <td>C1</td>\n",
       "    </tr>\n",
       "    <tr>\n",
       "      <th>3</th>\n",
       "      <td>How much wood would a woodchuck chuck if a woo...</td>\n",
       "      <td>C2</td>\n",
       "    </tr>\n",
       "    <tr>\n",
       "      <th>4</th>\n",
       "      <td>As a woodchuck would if a woodchuck could chuc...</td>\n",
       "      <td>C2</td>\n",
       "    </tr>\n",
       "  </tbody>\n",
       "</table>\n",
       "</div>"
      ],
      "text/plain": [
       "                                         Description Category\n",
       "0      Peter Piper picked a peck of pickled peppers.       C1\n",
       "1      A peck of pickled peppers Peter Piper picked.       C1\n",
       "2  Where is the peck of pickled peppers Peter Pip...       C1\n",
       "3  How much wood would a woodchuck chuck if a woo...       C2\n",
       "4  As a woodchuck would if a woodchuck could chuc...       C2"
      ]
     },
     "execution_count": 2,
     "metadata": {},
     "output_type": "execute_result"
    }
   ],
   "source": [
    "#Loading Data\n",
    "df = pd.read_csv('Twotonguetwisters.txt', sep=\"\\n\", header=None)\n",
    "df.columns = [\"Description\"]\n",
    "df.head()\n",
    "\n",
    "#Adding the Categories to the dataframe\n",
    "categories = ['C1', 'C1', 'C1', 'C2', 'C2']\n",
    "df['Category'] = categories\n",
    "df.head()"
   ]
  },
  {
   "cell_type": "code",
   "execution_count": 3,
   "metadata": {
    "colab": {
     "base_uri": "https://localhost:8080/",
     "height": 34
    },
    "colab_type": "code",
    "executionInfo": {
     "elapsed": 523,
     "status": "ok",
     "timestamp": 1569951768924,
     "user": {
      "displayName": "Allison Nowakowski",
      "photoUrl": "",
      "userId": "11962716709001588350"
     },
     "user_tz": 240
    },
    "id": "8LHr16xsaFgH",
    "outputId": "ab4f0fa1-0a8c-4258-ee81-785d2b0954e7"
   },
   "outputs": [
    {
     "name": "stdout",
     "output_type": "stream",
     "text": [
      "There are 5 records\n"
     ]
    }
   ],
   "source": [
    "print(f'There are {len(df)} records')"
   ]
  },
  {
   "cell_type": "code",
   "execution_count": 4,
   "metadata": {
    "colab": {
     "base_uri": "https://localhost:8080/",
     "height": 68
    },
    "colab_type": "code",
    "executionInfo": {
     "elapsed": 288,
     "status": "ok",
     "timestamp": 1569951770458,
     "user": {
      "displayName": "Allison Nowakowski",
      "photoUrl": "",
      "userId": "11962716709001588350"
     },
     "user_tz": 240
    },
    "id": "985rThXzaFgL",
    "outputId": "d09d0670-7ba2-459f-8b9f-fd1e5b56d7b2"
   },
   "outputs": [
    {
     "data": {
      "text/plain": [
       "Description    0\n",
       "Category       0\n",
       "dtype: int64"
      ]
     },
     "execution_count": 4,
     "metadata": {},
     "output_type": "execute_result"
    }
   ],
   "source": [
    "#Checking for missing values, ensuring data is complete.\n",
    "df.isnull().sum()"
   ]
  },
  {
   "cell_type": "code",
   "execution_count": 5,
   "metadata": {
    "colab": {
     "base_uri": "https://localhost:8080/",
     "height": 300
    },
    "colab_type": "code",
    "executionInfo": {
     "elapsed": 385,
     "status": "ok",
     "timestamp": 1569951771660,
     "user": {
      "displayName": "Allison Nowakowski",
      "photoUrl": "",
      "userId": "11962716709001588350"
     },
     "user_tz": 240
    },
    "id": "DB74SoZHaFgN",
    "outputId": "1d8fa1cc-af5b-4ded-8924-47a4d2db650a"
   },
   "outputs": [
    {
     "data": {
      "text/plain": [
       "<matplotlib.axes._subplots.AxesSubplot at 0x11567b208>"
      ]
     },
     "execution_count": 5,
     "metadata": {},
     "output_type": "execute_result"
    },
    {
     "data": {
      "image/png": "[encoded data removed]",
      "text/plain": [
       "<Figure size 432x288 with 1 Axes>"
      ]
     },
     "metadata": {
      "needs_background": "light"
     },
     "output_type": "display_data"
    }
   ],
   "source": [
    "#Visualizing the split between the data categories\n",
    "sns.countplot(df.Category)"
   ]
  },
  {
   "cell_type": "code",
   "execution_count": 6,
   "metadata": {
    "colab": {
     "base_uri": "https://localhost:8080/",
     "height": 68
    },
    "colab_type": "code",
    "executionInfo": {
     "elapsed": 241,
     "status": "ok",
     "timestamp": 1569951773478,
     "user": {
      "displayName": "Allison Nowakowski",
      "photoUrl": "",
      "userId": "11962716709001588350"
     },
     "user_tz": 240
    },
    "id": "kSc8PxwqaFgP",
    "outputId": "1d18d30f-30b9-4e87-ccb9-2f6b9ceafb5d"
   },
   "outputs": [
    {
     "data": {
      "text/plain": [
       "C1    3\n",
       "C2    2\n",
       "Name: Category, dtype: int64"
      ]
     },
     "execution_count": 6,
     "metadata": {},
     "output_type": "execute_result"
    }
   ],
   "source": [
    "df['Category'].value_counts()"
   ]
  },
  {
   "cell_type": "markdown",
   "metadata": {
    "colab_type": "text",
    "id": "FMFBMLhuaFgR"
   },
   "source": [
    "#We see that out of 5, 3 of them are classified as C1.\n",
    "#Our model must perform better than 67% to beat random chance."
   ]
  },
  {
   "cell_type": "code",
   "execution_count": 7,
   "metadata": {
    "colab": {},
    "colab_type": "code",
    "id": "46PeLdzfaFgS"
   },
   "outputs": [],
   "source": [
    "#Splitting the data into train & test sets:\n",
    "from sklearn.model_selection import train_test_split\n",
    "\n",
    "x = df['Description']\n",
    "y = df['Category']\n",
    "\n",
    "x_train, x_test, y_train, y_test = train_test_split(x, y, test_size=0.33, random_state=42)\n",
    "\n",
    "y_train = np.where(y_train=='C1',1,0)\n",
    "y_test = np.where(y_test=='C1',1,0)"
   ]
  },
  {
   "cell_type": "code",
   "execution_count": 8,
   "metadata": {
    "colab": {},
    "colab_type": "code",
    "id": "UQsUcQJYaFgU"
   },
   "outputs": [],
   "source": [
    "#Creating a bag of words with word counts using SckKit Learn's CountVectorizer\n",
    "\n",
    "#Defining a tokenizer for use by scikit-learn\n",
    "import re\n",
    "re_tok = re.compile('[^a-zA-z]')\n",
    "def tokenize(s):\n",
    "    return re_tok.sub(' ', s).split()"
   ]
  },
  {
   "cell_type": "code",
   "execution_count": 9,
   "metadata": {
    "colab": {
     "base_uri": "https://localhost:8080/",
     "height": 136
    },
    "colab_type": "code",
    "executionInfo": {
     "elapsed": 662,
     "status": "ok",
     "timestamp": 1569951781998,
     "user": {
      "displayName": "Allison Nowakowski",
      "photoUrl": "",
      "userId": "11962716709001588350"
     },
     "user_tz": 240
    },
    "id": "Hdf9LjpkaFgW",
    "outputId": "0d85d042-cd53-4047-89d1-39d820907a57"
   },
   "outputs": [
    {
     "name": "stdout",
     "output_type": "stream",
     "text": [
      "CountVectorizer(analyzer='word', binary=False, decode_error='strict',\n",
      "        dtype=<class 'numpy.int64'>, encoding='utf-8', input='content',\n",
      "        lowercase=True, max_df=1.0, max_features=None, min_df=1,\n",
      "        ngram_range=(1, 1), preprocessor=None, stop_words='english',\n",
      "        strip_accents=None, token_pattern='(?u)\\\\b\\\\w\\\\w+\\\\b',\n",
      "        tokenizer=<function tokenize at 0x1a19332e18>, vocabulary=None)\n"
     ]
    }
   ],
   "source": [
    "#Using SciKit Learn's CountVectorizer\n",
    "from sklearn.feature_extraction.text import CountVectorizer\n",
    "#Tokenizing and removing stop words using CountVectorizer's Built-In English List\n",
    "count_vect = CountVectorizer(tokenizer = tokenize, stop_words='english')\n",
    "print(count_vect)"
   ]
  },
  {
   "cell_type": "code",
   "execution_count": 10,
   "metadata": {
    "colab": {},
    "colab_type": "code",
    "id": "pg0dUFQ7aFgZ"
   },
   "outputs": [],
   "source": [
    "tf_train = count_vect.fit_transform(x_train)\n",
    "tf_test = count_vect.transform(x_test)"
   ]
  },
  {
   "cell_type": "code",
   "execution_count": 11,
   "metadata": {
    "colab": {
     "base_uri": "https://localhost:8080/",
     "height": 51
    },
    "colab_type": "code",
    "executionInfo": {
     "elapsed": 305,
     "status": "ok",
     "timestamp": 1569951784389,
     "user": {
      "displayName": "Allison Nowakowski",
      "photoUrl": "",
      "userId": "11962716709001588350"
     },
     "user_tz": 240
    },
    "id": "dEciMvXhaFgb",
    "outputId": "6721bb5c-6a4a-490a-c414-c27cf742bbd6"
   },
   "outputs": [
    {
     "name": "stdout",
     "output_type": "stream",
     "text": [
      "Train term frequency contains 3 documents and 9 tokens.\n",
      "Each row represents a document and each column how many times a token appears on the document\n"
     ]
    }
   ],
   "source": [
    "print(f'Train term frequency contains {tf_train.shape[0]} documents and {tf_train.shape[1]} tokens.\\nEach row represents a document and each column how many times a token appears on the document')"
   ]
  },
  {
   "cell_type": "code",
   "execution_count": 12,
   "metadata": {
    "colab": {
     "base_uri": "https://localhost:8080/",
     "height": 51
    },
    "colab_type": "code",
    "executionInfo": {
     "elapsed": 657,
     "status": "ok",
     "timestamp": 1569951785610,
     "user": {
      "displayName": "Allison Nowakowski",
      "photoUrl": "",
      "userId": "11962716709001588350"
     },
     "user_tz": 240
    },
    "id": "m5hiQouCaFgd",
    "outputId": "3d614c7d-89a4-40d8-a63a-1674058af6fb"
   },
   "outputs": [
    {
     "data": {
      "text/plain": [
       "<3x9 sparse matrix of type '<class 'numpy.int64'>'\n",
       "\twith 15 stored elements in Compressed Sparse Row format>"
      ]
     },
     "execution_count": 12,
     "metadata": {},
     "output_type": "execute_result"
    }
   ],
   "source": [
    "tf_train"
   ]
  },
  {
   "cell_type": "code",
   "execution_count": 13,
   "metadata": {
    "colab": {
     "base_uri": "https://localhost:8080/",
     "height": 51
    },
    "colab_type": "code",
    "executionInfo": {
     "elapsed": 235,
     "status": "ok",
     "timestamp": 1569951785945,
     "user": {
      "displayName": "Allison Nowakowski",
      "photoUrl": "",
      "userId": "11962716709001588350"
     },
     "user_tz": 240
    },
    "id": "znxL2KZFaFgf",
    "outputId": "2782c6a2-6326-4a0d-bb68-557d3a5867cb"
   },
   "outputs": [
    {
     "data": {
      "text/plain": [
       "<1x9 sparse matrix of type '<class 'numpy.int64'>'\n",
       "\twith 6 stored elements in Compressed Sparse Row format>"
      ]
     },
     "execution_count": 13,
     "metadata": {},
     "output_type": "execute_result"
    }
   ],
   "source": [
    "tf_train[0]"
   ]
  },
  {
   "cell_type": "code",
   "execution_count": 14,
   "metadata": {
    "colab": {
     "base_uri": "https://localhost:8080/",
     "height": 51
    },
    "colab_type": "code",
    "executionInfo": {
     "elapsed": 220,
     "status": "ok",
     "timestamp": 1569951786732,
     "user": {
      "displayName": "Allison Nowakowski",
      "photoUrl": "",
      "userId": "11962716709001588350"
     },
     "user_tz": 240
    },
    "id": "3TIuQexPaFgh",
    "outputId": "a212fcb3-bb3f-418b-8de9-43eeda4707d7"
   },
   "outputs": [
    {
     "data": {
      "text/plain": [
       "<2x9 sparse matrix of type '<class 'numpy.int64'>'\n",
       "\twith 9 stored elements in Compressed Sparse Row format>"
      ]
     },
     "execution_count": 14,
     "metadata": {},
     "output_type": "execute_result"
    }
   ],
   "source": [
    "tf_test"
   ]
  },
  {
   "cell_type": "code",
   "execution_count": 15,
   "metadata": {
    "colab": {
     "base_uri": "https://localhost:8080/",
     "height": 34
    },
    "colab_type": "code",
    "executionInfo": {
     "elapsed": 359,
     "status": "ok",
     "timestamp": 1569951787753,
     "user": {
      "displayName": "Allison Nowakowski",
      "photoUrl": "",
      "userId": "11962716709001588350"
     },
     "user_tz": 240
    },
    "id": "8SBec5sJaFgk",
    "outputId": "aa48d7c1-ca8e-497f-f11d-86650a8fbc8c"
   },
   "outputs": [
    {
     "data": {
      "text/plain": [
       "9"
      ]
     },
     "execution_count": 15,
     "metadata": {},
     "output_type": "execute_result"
    }
   ],
   "source": [
    "#Getting vocabulary\n",
    "vocab = count_vect.get_feature_names()\n",
    "len(vocab)"
   ]
  },
  {
   "cell_type": "code",
   "execution_count": 16,
   "metadata": {
    "colab": {
     "base_uri": "https://localhost:8080/",
     "height": 170
    },
    "colab_type": "code",
    "executionInfo": {
     "elapsed": 665,
     "status": "ok",
     "timestamp": 1569951789503,
     "user": {
      "displayName": "Allison Nowakowski",
      "photoUrl": "",
      "userId": "11962716709001588350"
     },
     "user_tz": 240
    },
    "id": "0zrtcYsLaFgm",
    "outputId": "57c80a26-5565-40a0-dc28-0dde9d4a2d0a"
   },
   "outputs": [
    {
     "data": {
      "text/plain": [
       "['chuck',\n",
       " 'peck',\n",
       " 'peppers',\n",
       " 'peter',\n",
       " 'picked',\n",
       " 'pickled',\n",
       " 'piper',\n",
       " 'wood',\n",
       " 'woodchuck']"
      ]
     },
     "execution_count": 16,
     "metadata": {},
     "output_type": "execute_result"
    }
   ],
   "source": [
    "vocab"
   ]
  },
  {
   "cell_type": "code",
   "execution_count": 17,
   "metadata": {
    "colab": {
     "base_uri": "https://localhost:8080/",
     "height": 34
    },
    "colab_type": "code",
    "executionInfo": {
     "elapsed": 270,
     "status": "ok",
     "timestamp": 1569951790592,
     "user": {
      "displayName": "Allison Nowakowski",
      "photoUrl": "",
      "userId": "11962716709001588350"
     },
     "user_tz": 240
    },
    "id": "8cM1WvGRaFgo",
    "outputId": "488ed0bd-8ac9-4f24-dcf2-2e146645f6e6"
   },
   "outputs": [
    {
     "data": {
      "text/plain": [
       "array([1, 1, 0])"
      ]
     },
     "execution_count": 17,
     "metadata": {},
     "output_type": "execute_result"
    }
   ],
   "source": [
    "# Displaying the Categories of the training data\n",
    "y_train"
   ]
  },
  {
   "cell_type": "code",
   "execution_count": 18,
   "metadata": {
    "colab": {
     "base_uri": "https://localhost:8080/",
     "height": 85
    },
    "colab_type": "code",
    "executionInfo": {
     "elapsed": 363,
     "status": "ok",
     "timestamp": 1569951791779,
     "user": {
      "displayName": "Allison Nowakowski",
      "photoUrl": "",
      "userId": "11962716709001588350"
     },
     "user_tz": 240
    },
    "id": "LZv0H0SqaFgr",
    "outputId": "b77f8827-338c-47c9-c851-05b60bb4cba5"
   },
   "outputs": [
    {
     "data": {
      "text/plain": [
       "<bound method NDFrame.to_csv of    chuck  peck  peppers  peter  picked  pickled  piper  wood  woodchuck\n",
       "0      0     1        1      1       1        1      1     0          0\n",
       "1      0     1        1      1       1        1      1     0          0\n",
       "2      2     0        0      0       0        0      0     2          2>"
      ]
     },
     "execution_count": 18,
     "metadata": {},
     "output_type": "execute_result"
    }
   ],
   "source": [
    "#Generating and saving bags of words for training data\n",
    "pd.DataFrame(tf_train.toarray(), columns=vocab).to_csv(r'Train-bagOfWords.csv')\n",
    "pd.DataFrame(tf_train.toarray(), columns=vocab).to_csv"
   ]
  },
  {
   "cell_type": "code",
   "execution_count": 19,
   "metadata": {
    "colab": {
     "base_uri": "https://localhost:8080/",
     "height": 34
    },
    "colab_type": "code",
    "executionInfo": {
     "elapsed": 487,
     "status": "ok",
     "timestamp": 1569951793247,
     "user": {
      "displayName": "Allison Nowakowski",
      "photoUrl": "",
      "userId": "11962716709001588350"
     },
     "user_tz": 240
    },
    "id": "uYQF1p5CaFgv",
    "outputId": "e8792f23-8d7a-42b8-dbf5-bd50c92fc582"
   },
   "outputs": [
    {
     "data": {
      "text/plain": [
       "array([1, 0])"
      ]
     },
     "execution_count": 19,
     "metadata": {},
     "output_type": "execute_result"
    }
   ],
   "source": [
    "#Displaying the Categories of the test data\n",
    "y_test"
   ]
  },
  {
   "cell_type": "code",
   "execution_count": 20,
   "metadata": {
    "colab": {
     "base_uri": "https://localhost:8080/",
     "height": 68
    },
    "colab_type": "code",
    "executionInfo": {
     "elapsed": 321,
     "status": "ok",
     "timestamp": 1569951794280,
     "user": {
      "displayName": "Allison Nowakowski",
      "photoUrl": "",
      "userId": "11962716709001588350"
     },
     "user_tz": 240
    },
    "id": "0F2GdnvXaFgx",
    "outputId": "a6376e95-cceb-47fa-ce88-b7ab329c8ebf"
   },
   "outputs": [
    {
     "data": {
      "text/plain": [
       "<bound method NDFrame.to_csv of    chuck  peck  peppers  peter  picked  pickled  piper  wood  woodchuck\n",
       "0      0     1        1      1       1        1      1     0          0\n",
       "1      1     0        0      0       0        0      0     1          2>"
      ]
     },
     "execution_count": 20,
     "metadata": {},
     "output_type": "execute_result"
    }
   ],
   "source": [
    "#Generating and saving bag of words for test data\n",
    "pd.DataFrame(tf_test.toarray(), columns=vocab).to_csv(r'Test-bagOfWords.csv')\n",
    "pd.DataFrame(tf_test.toarray(), columns=vocab).to_csv"
   ]
  },
  {
   "cell_type": "code",
   "execution_count": 21,
   "metadata": {
    "colab": {},
    "colab_type": "code",
    "id": "ylJqjxAcaFg1"
   },
   "outputs": [],
   "source": [
    "#Training and testing a multinomial NB model using Scikit-learn and word counts\n",
    "from sklearn.naive_bayes import MultinomialNB\n",
    "model = MultinomialNB().fit(tf_train, y_train)"
   ]
  },
  {
   "cell_type": "code",
   "execution_count": 22,
   "metadata": {
    "colab": {},
    "colab_type": "code",
    "id": "v1-klF0oaFg5"
   },
   "outputs": [],
   "source": [
    "# get probabilities for positive class\n",
    "probs = model.predict_proba(tf_test)[:,1]"
   ]
  },
  {
   "cell_type": "code",
   "execution_count": 23,
   "metadata": {
    "colab": {},
    "colab_type": "code",
    "id": "O53vr60ZaFg8"
   },
   "outputs": [],
   "source": [
    "# get predictions\n",
    "predictions = model.predict(tf_test)"
   ]
  },
  {
   "cell_type": "code",
   "execution_count": 24,
   "metadata": {
    "colab": {},
    "colab_type": "code",
    "id": "lzLjTXFYaFg-"
   },
   "outputs": [],
   "source": [
    "#Evaluation\n",
    "from sklearn.metrics import accuracy_score, precision_score, recall_score, roc_auc_score \n",
    "from sklearn.metrics import confusion_matrix,roc_curve, auc"
   ]
  },
  {
   "cell_type": "code",
   "execution_count": 25,
   "metadata": {
    "colab": {
     "base_uri": "https://localhost:8080/",
     "height": 187
    },
    "colab_type": "code",
    "executionInfo": {
     "elapsed": 281,
     "status": "ok",
     "timestamp": 1569951813145,
     "user": {
      "displayName": "Allison Nowakowski",
      "photoUrl": "",
      "userId": "11962716709001588350"
     },
     "user_tz": 240
    },
    "id": "4meh4DLPaFhE",
    "outputId": "57ae03df-1903-4efb-9a4a-9f9093a9fdae"
   },
   "outputs": [
    {
     "name": "stdout",
     "output_type": "stream",
     "text": [
      "\n",
      "\n",
      "Accuracy.........: 100.0000\n",
      "Precision........: 100.0000\n",
      "Recall...........: 100.0000\n",
      "FP Rate...........:0.0000\n",
      "ROC AUC (probs)..: 1.000000\n",
      "Confusion matrix.:\n",
      " [[1 0]\n",
      " [0 1]]\n"
     ]
    }
   ],
   "source": [
    "# Report the predctive performance metrics\n",
    "# evaluate predictions\n",
    "accuracy = accuracy_score(y_test, predictions)\n",
    "precision=precision_score(y_test, predictions, )\n",
    "recall=recall_score(y_test, predictions)\n",
    "specificity=recall_score(y_test, predictions, pos_label=0)\n",
    "roc = roc_auc_score(y_test, probs)\n",
    "\n",
    "print(\"\\n\")\n",
    "print(f\"Accuracy.........: {accuracy * 100.0:.4f}\")\n",
    "print(f\"Precision........: {precision *100:.4f}\")\n",
    "print(f\"Recall...........: {recall * 100:.4f}\")\n",
    "print(f\"FP Rate...........:{(1-specificity) * 100:.4f}\")\n",
    "print(f\"ROC AUC (probs)..: {roc:.6f}\")\n",
    "\n",
    "cm = confusion_matrix(y_test, predictions)\n",
    "print(f\"Confusion matrix.:\\n {cm}\")"
   ]
  },
  {
   "cell_type": "code",
   "execution_count": 29,
   "metadata": {
    "colab": {
     "base_uri": "https://localhost:8080/",
     "height": 34
    },
    "colab_type": "code",
    "executionInfo": {
     "elapsed": 364,
     "status": "ok",
     "timestamp": 1569951816961,
     "user": {
      "displayName": "Allison Nowakowski",
      "photoUrl": "",
      "userId": "11962716709001588350"
     },
     "user_tz": 240
    },
    "id": "Vmt6kPJnaFhN",
    "outputId": "5d0b2450-9b1a-4a92-f140-a85b5590858a"
   },
   "outputs": [
    {
     "name": "stdout",
     "output_type": "stream",
     "text": [
      "[0]\n"
     ]
    }
   ],
   "source": [
    "#Predicting whether the following document belongs to category C1 or C2\n",
    "#\"The woodchuck picked peppers and chucked wood.\"\n",
    "print(model.predict(count_vect.transform([\"The woodchuck picked peppers and chucked wood.\"])))"
   ]
  },
  {
   "cell_type": "code",
   "execution_count": 30,
   "metadata": {
    "colab": {},
    "colab_type": "code",
    "id": "E5LTIK9naFhP"
   },
   "outputs": [],
   "source": [
    "#According to the result, the document would be classified as a C2 Category."
   ]
  }
 ],
 "metadata": {
  "colab": {
   "name": "Group6-NLP-04-Assignment.ipynb",
   "provenance": [],
   "toc_visible": true
  },
  "kernelspec": {
   "display_name": "Python 3",
   "language": "python",
   "name": "python3"
  },
  "language_info": {
   "codemirror_mode": {
    "name": "ipython",
    "version": 3
   },
   "file_extension": ".py",
   "mimetype": "text/x-python",
   "name": "python",
   "nbconvert_exporter": "python",
   "pygments_lexer": "ipython3",
   "version": "3.7.4"
  }
 },
 "nbformat": 4,
 "nbformat_minor": 1
}
